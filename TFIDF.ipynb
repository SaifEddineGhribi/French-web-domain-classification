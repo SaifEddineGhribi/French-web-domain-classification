{
  "nbformat": 4,
  "nbformat_minor": 0,
  "metadata": {
    "kernelspec": {
      "name": "python3",
      "display_name": "Python 3"
    },
    "language_info": {
      "codemirror_mode": {
        "name": "ipython",
        "version": 3
      },
      "file_extension": ".py",
      "mimetype": "text/x-python",
      "name": "python",
      "nbconvert_exporter": "python",
      "pygments_lexer": "ipython3",
      "version": "3.7.4"
    },
    "colab": {
      "name": "TFIDF.ipynb",
      "provenance": []
    },
    "accelerator": "GPU"
  },
  "cells": [
    {
      "cell_type": "markdown",
      "metadata": {
        "id": "rFD_R-8P_Onf",
        "colab_type": "text"
      },
      "source": [
        "# importing libraries"
      ]
    },
    {
      "cell_type": "code",
      "metadata": {
        "id": "2ieKnHxR_WPA",
        "colab_type": "code",
        "outputId": "a0a8f745-cb39-497b-f551-97ca3c946689",
        "colab": {
          "base_uri": "https://localhost:8080/",
          "height": 126
        }
      },
      "source": [
        "from google.colab import drive\n",
        "drive.mount('/content/drive')"
      ],
      "execution_count": 0,
      "outputs": [
        {
          "output_type": "stream",
          "text": [
            "Go to this URL in a browser: https://accounts.google.com/o/oauth2/auth?client_id=947318989803-6bn6qk8qdgf4n4g3pfee6491hc0brc4i.apps.googleusercontent.com&redirect_uri=urn%3aietf%3awg%3aoauth%3a2.0%3aoob&response_type=code&scope=email%20https%3a%2f%2fwww.googleapis.com%2fauth%2fdocs.test%20https%3a%2f%2fwww.googleapis.com%2fauth%2fdrive%20https%3a%2f%2fwww.googleapis.com%2fauth%2fdrive.photos.readonly%20https%3a%2f%2fwww.googleapis.com%2fauth%2fpeopleapi.readonly\n",
            "\n",
            "Enter your authorization code:\n",
            "··········\n",
            "Mounted at /content/drive\n"
          ],
          "name": "stdout"
        }
      ]
    },
    {
      "cell_type": "code",
      "metadata": {
        "id": "8fO2okOe_bub",
        "colab_type": "code",
        "outputId": "4908e8c1-3fe5-40a5-83d9-0fd85101e3d9",
        "colab": {
          "base_uri": "https://localhost:8080/",
          "height": 35
        }
      },
      "source": [
        "cd drive/My\\ Drive/Projet\\ Altegrad"
      ],
      "execution_count": 0,
      "outputs": [
        {
          "output_type": "stream",
          "text": [
            "/content/drive/My Drive/Projet Altegrad\n"
          ],
          "name": "stdout"
        }
      ]
    },
    {
      "cell_type": "code",
      "metadata": {
        "id": "vNow5dXO_yxh",
        "colab_type": "code",
        "colab": {}
      },
      "source": [
        "import warnings\n",
        "warnings.filterwarnings(\"ignore\")"
      ],
      "execution_count": 0,
      "outputs": []
    },
    {
      "cell_type": "code",
      "metadata": {
        "id": "rNGASVO0_Oni",
        "colab_type": "code",
        "outputId": "5162d90a-0ce0-4bef-aafe-81c5876bc0f2",
        "colab": {
          "base_uri": "https://localhost:8080/",
          "height": 117
        }
      },
      "source": [
        "import os\n",
        "import csv\n",
        "from sklearn.feature_extraction.text import TfidfVectorizer\n",
        "from sklearn.linear_model import LogisticRegression\n",
        "import codecs\n",
        "\n",
        "from os import path\n",
        "from functions_text import *\n",
        "import numpy as np\n",
        "import pandas as pd\n",
        "from collections import Counter\n",
        "import nltk\n",
        "import warnings\n",
        "warnings.filterwarnings(\"ignore\")\n",
        "nltk.download('punkt')\n",
        "stop_words = get_stopswords()\n",
        "import keras\n",
        "from keras.models import Sequential\n",
        "from keras.layers import Dense,Dropout,GRU,LSTM,Embedding,Lambda,Flatten\n",
        "from keras.utils import to_categorical \n",
        "import pandas as pd "
      ],
      "execution_count": 0,
      "outputs": [
        {
          "output_type": "stream",
          "text": [
            "[nltk_data] Downloading package punkt to /root/nltk_data...\n",
            "[nltk_data]   Unzipping tokenizers/punkt.zip.\n"
          ],
          "name": "stdout"
        },
        {
          "output_type": "stream",
          "text": [
            "Using TensorFlow backend.\n"
          ],
          "name": "stderr"
        },
        {
          "output_type": "display_data",
          "data": {
            "text/html": [
              "<p style=\"color: red;\">\n",
              "The default version of TensorFlow in Colab will soon switch to TensorFlow 2.x.<br>\n",
              "We recommend you <a href=\"https://www.tensorflow.org/guide/migrate\" target=\"_blank\">upgrade</a> now \n",
              "or ensure your notebook will continue to use TensorFlow 1.x via the <code>%tensorflow_version 1.x</code> magic:\n",
              "<a href=\"https://colab.research.google.com/notebooks/tensorflow_version.ipynb\" target=\"_blank\">more info</a>.</p>\n"
            ],
            "text/plain": [
              "<IPython.core.display.HTML object>"
            ]
          },
          "metadata": {
            "tags": []
          }
        }
      ]
    },
    {
      "cell_type": "markdown",
      "metadata": {
        "id": "rcguI3Da_Onp",
        "colab_type": "text"
      },
      "source": [
        "# preprocess a file "
      ]
    },
    {
      "cell_type": "code",
      "metadata": {
        "id": "hjO0Tnce_Onq",
        "colab_type": "code",
        "outputId": "d04bcdfc-9f4c-4688-831f-31cc60f7a515",
        "colab": {
          "base_uri": "https://localhost:8080/",
          "height": 35
        }
      },
      "source": [
        "df = pd.read_csv(\"data.csv\")\n",
        "train_data = np.array(df.text.copy())\n",
        "def isNaN(num):\n",
        "    return num != num\n",
        "len(train_data)\n",
        "for i  in range(len(train_data)): \n",
        "    if isNaN(train_data[i]):\n",
        "        train_data[i]=\"\"\n",
        "vec = TfidfVectorizer(decode_error='ignore', strip_accents='unicode', encoding='utf-8',ngram_range=(1,2), min_df=5, max_df=100,max_features=512)\n",
        "X = vec.fit_transform(train_data)\n",
        "top_words = np.max(list(vec.vocabulary_.values()))\n",
        "from sklearn.model_selection import train_test_split\n",
        "X_train,X_test,y_train2,y_test2  = train_test_split(X,df.label,test_size=0.33)\n",
        "\n",
        "#clf = LogisticRegression(solver='lbfgs', multi_class='auto', max_iter=1000)\n",
        "#clf.fit(X_train, y_train)\n",
        "\n",
        "print(np.shape(X_test.toarray())) \n",
        "\n",
        "def transform_one_hot(y):\n",
        "    m,n = y.shape[0], 8\n",
        "    Y_one_hot_train = np.zeros((m,n))\n",
        "    for i in range (m):\n",
        "        Y_one_hot_train[i,y[i]]=1\n",
        "    return Y_one_hot_train\n",
        "\n"
      ],
      "execution_count": 0,
      "outputs": [
        {
          "output_type": "stream",
          "text": [
            "(702, 512)\n"
          ],
          "name": "stdout"
        }
      ]
    },
    {
      "cell_type": "code",
      "metadata": {
        "id": "s_jpZa8__Onx",
        "colab_type": "code",
        "colab": {}
      },
      "source": [
        "y_train,y_test = transform_one_hot(np.array(y_train2)),transform_one_hot(np.array(y_test2))"
      ],
      "execution_count": 0,
      "outputs": []
    },
    {
      "cell_type": "code",
      "metadata": {
        "id": "QV0M62lR_On0",
        "colab_type": "code",
        "outputId": "e3854f10-3a2f-40d3-bca9-b9c583379f65",
        "colab": {
          "base_uri": "https://localhost:8080/",
          "height": 35
        }
      },
      "source": [
        "input_max = np.shape(X_test.toarray())[1]\n",
        "input_max"
      ],
      "execution_count": 0,
      "outputs": [
        {
          "output_type": "execute_result",
          "data": {
            "text/plain": [
              "512"
            ]
          },
          "metadata": {
            "tags": []
          },
          "execution_count": 128
        }
      ]
    },
    {
      "cell_type": "code",
      "metadata": {
        "id": "gVgPzlhu_On5",
        "colab_type": "code",
        "outputId": "7e7050b5-fab7-4ed8-c94d-9a37846370fb",
        "colab": {
          "base_uri": "https://localhost:8080/",
          "height": 337
        }
      },
      "source": [
        "model = Sequential()\n",
        "model.build((None,input_max))\n",
        "#model.add(Embedding(top_words,64,input_length=512))\n",
        "#model.add(LSTM(units=100 ))\n",
        "model.add(Dense(1024,activation=\"relu\"))\n",
        "model.add(Dropout(0.5))\n",
        "model.add(Dense(64,activation=\"relu\"))\n",
        "model.add(Dropout(0.5))\n",
        "model.add(Dense(8,activation='softmax'))\n",
        "model.summary()"
      ],
      "execution_count": 0,
      "outputs": [
        {
          "output_type": "stream",
          "text": [
            "Model: \"sequential_26\"\n",
            "_________________________________________________________________\n",
            "Layer (type)                 Output Shape              Param #   \n",
            "=================================================================\n",
            "dense_60 (Dense)             (None, 1024)              525312    \n",
            "_________________________________________________________________\n",
            "dropout_20 (Dropout)         (None, 1024)              0         \n",
            "_________________________________________________________________\n",
            "dense_61 (Dense)             (None, 64)                65600     \n",
            "_________________________________________________________________\n",
            "dropout_21 (Dropout)         (None, 64)                0         \n",
            "_________________________________________________________________\n",
            "dense_62 (Dense)             (None, 8)                 520       \n",
            "=================================================================\n",
            "Total params: 591,432\n",
            "Trainable params: 591,432\n",
            "Non-trainable params: 0\n",
            "_________________________________________________________________\n"
          ],
          "name": "stdout"
        }
      ]
    },
    {
      "cell_type": "code",
      "metadata": {
        "id": "EZiev648JUIr",
        "colab_type": "code",
        "outputId": "f93a89d9-a555-40e8-d202-d8e9f03a2fb5",
        "colab": {
          "base_uri": "https://localhost:8080/",
          "height": 1000
        }
      },
      "source": [
        "model.compile(loss='categorical_crossentropy', optimizer='adam', metrics=['accuracy'])\n",
        "model.fit(X_train.toarray(), y_train, epochs=30, batch_size=64, validation_data=(X_test.toarray(), y_test))"
      ],
      "execution_count": 0,
      "outputs": [
        {
          "output_type": "stream",
          "text": [
            "Train on 1423 samples, validate on 702 samples\n",
            "Epoch 1/30\n",
            "1423/1423 [==============================] - 1s 760us/step - loss: 1.9219 - acc: 0.2980 - val_loss: 1.7435 - val_acc: 0.3447\n",
            "Epoch 2/30\n",
            "1423/1423 [==============================] - 0s 86us/step - loss: 1.6683 - acc: 0.3823 - val_loss: 1.6363 - val_acc: 0.4202\n",
            "Epoch 3/30\n",
            "1423/1423 [==============================] - 0s 76us/step - loss: 1.5036 - acc: 0.4498 - val_loss: 1.5453 - val_acc: 0.4501\n",
            "Epoch 4/30\n",
            "1423/1423 [==============================] - 0s 82us/step - loss: 1.3538 - acc: 0.5137 - val_loss: 1.4933 - val_acc: 0.4687\n",
            "Epoch 5/30\n",
            "1423/1423 [==============================] - 0s 88us/step - loss: 1.2311 - acc: 0.5699 - val_loss: 1.4813 - val_acc: 0.4630\n",
            "Epoch 6/30\n",
            "1423/1423 [==============================] - 0s 76us/step - loss: 1.1220 - acc: 0.6128 - val_loss: 1.4659 - val_acc: 0.4715\n",
            "Epoch 7/30\n",
            "1423/1423 [==============================] - 0s 80us/step - loss: 1.0150 - acc: 0.6634 - val_loss: 1.4988 - val_acc: 0.4786\n",
            "Epoch 8/30\n",
            "1423/1423 [==============================] - 0s 75us/step - loss: 0.9064 - acc: 0.6859 - val_loss: 1.4967 - val_acc: 0.4715\n",
            "Epoch 9/30\n",
            "1423/1423 [==============================] - 0s 92us/step - loss: 0.8202 - acc: 0.7133 - val_loss: 1.5490 - val_acc: 0.4758\n",
            "Epoch 10/30\n",
            "1423/1423 [==============================] - 0s 80us/step - loss: 0.7295 - acc: 0.7590 - val_loss: 1.5928 - val_acc: 0.4687\n",
            "Epoch 11/30\n",
            "1423/1423 [==============================] - 0s 88us/step - loss: 0.6545 - acc: 0.7864 - val_loss: 1.6392 - val_acc: 0.4687\n",
            "Epoch 12/30\n",
            "1423/1423 [==============================] - 0s 81us/step - loss: 0.6077 - acc: 0.8103 - val_loss: 1.6796 - val_acc: 0.4630\n",
            "Epoch 13/30\n",
            "1423/1423 [==============================] - 0s 88us/step - loss: 0.5473 - acc: 0.8285 - val_loss: 1.7363 - val_acc: 0.4530\n",
            "Epoch 14/30\n",
            "1423/1423 [==============================] - 0s 84us/step - loss: 0.5122 - acc: 0.8412 - val_loss: 1.7860 - val_acc: 0.4573\n",
            "Epoch 15/30\n",
            "1423/1423 [==============================] - 0s 77us/step - loss: 0.4400 - acc: 0.8580 - val_loss: 1.8518 - val_acc: 0.4644\n",
            "Epoch 16/30\n",
            "1423/1423 [==============================] - 0s 77us/step - loss: 0.4190 - acc: 0.8735 - val_loss: 1.8948 - val_acc: 0.4615\n",
            "Epoch 17/30\n",
            "1423/1423 [==============================] - 0s 79us/step - loss: 0.3908 - acc: 0.8826 - val_loss: 1.9672 - val_acc: 0.4601\n",
            "Epoch 18/30\n",
            "1423/1423 [==============================] - 0s 81us/step - loss: 0.3690 - acc: 0.8798 - val_loss: 2.0182 - val_acc: 0.4687\n",
            "Epoch 19/30\n",
            "1423/1423 [==============================] - 0s 76us/step - loss: 0.3389 - acc: 0.8946 - val_loss: 2.0538 - val_acc: 0.4615\n",
            "Epoch 20/30\n",
            "1423/1423 [==============================] - 0s 95us/step - loss: 0.3160 - acc: 0.9037 - val_loss: 2.1036 - val_acc: 0.4644\n",
            "Epoch 21/30\n",
            "1423/1423 [==============================] - 0s 81us/step - loss: 0.3052 - acc: 0.9016 - val_loss: 2.1495 - val_acc: 0.4644\n",
            "Epoch 22/30\n",
            "1423/1423 [==============================] - 0s 100us/step - loss: 0.2822 - acc: 0.9150 - val_loss: 2.1799 - val_acc: 0.4587\n",
            "Epoch 23/30\n",
            "1423/1423 [==============================] - 0s 82us/step - loss: 0.2810 - acc: 0.9115 - val_loss: 2.2265 - val_acc: 0.4601\n",
            "Epoch 24/30\n",
            "1423/1423 [==============================] - 0s 84us/step - loss: 0.2706 - acc: 0.9171 - val_loss: 2.2643 - val_acc: 0.4587\n",
            "Epoch 25/30\n",
            "1423/1423 [==============================] - 0s 81us/step - loss: 0.2692 - acc: 0.9164 - val_loss: 2.2570 - val_acc: 0.4573\n",
            "Epoch 26/30\n",
            "1423/1423 [==============================] - 0s 84us/step - loss: 0.2564 - acc: 0.9157 - val_loss: 2.3238 - val_acc: 0.4587\n",
            "Epoch 27/30\n",
            "1423/1423 [==============================] - 0s 86us/step - loss: 0.2542 - acc: 0.9213 - val_loss: 2.3461 - val_acc: 0.4630\n",
            "Epoch 28/30\n",
            "1423/1423 [==============================] - 0s 77us/step - loss: 0.2346 - acc: 0.9276 - val_loss: 2.3664 - val_acc: 0.4573\n",
            "Epoch 29/30\n",
            "1423/1423 [==============================] - 0s 82us/step - loss: 0.2466 - acc: 0.9199 - val_loss: 2.3835 - val_acc: 0.4658\n",
            "Epoch 30/30\n",
            "1423/1423 [==============================] - 0s 87us/step - loss: 0.2300 - acc: 0.9220 - val_loss: 2.4085 - val_acc: 0.4687\n"
          ],
          "name": "stdout"
        },
        {
          "output_type": "execute_result",
          "data": {
            "text/plain": [
              "<keras.callbacks.History at 0x7f5578eae160>"
            ]
          },
          "metadata": {
            "tags": []
          },
          "execution_count": 130
        }
      ]
    },
    {
      "cell_type": "code",
      "metadata": {
        "id": "8_x4GWo9BYmj",
        "colab_type": "code",
        "outputId": "dc6261c1-c836-4dbb-b748-a8fb21dc4611",
        "colab": {
          "base_uri": "https://localhost:8080/",
          "height": 106
        }
      },
      "source": [
        "clf = LogisticRegression(solver='lbfgs', multi_class='auto')\n",
        "clf.fit(X_train, y_train2)"
      ],
      "execution_count": 0,
      "outputs": [
        {
          "output_type": "execute_result",
          "data": {
            "text/plain": [
              "LogisticRegression(C=1.0, class_weight=None, dual=False, fit_intercept=True,\n",
              "                   intercept_scaling=1, l1_ratio=None, max_iter=100,\n",
              "                   multi_class='auto', n_jobs=None, penalty='l2',\n",
              "                   random_state=None, solver='lbfgs', tol=0.0001, verbose=0,\n",
              "                   warm_start=False)"
            ]
          },
          "metadata": {
            "tags": []
          },
          "execution_count": 131
        }
      ]
    },
    {
      "cell_type": "code",
      "metadata": {
        "id": "v1FoVt6oETL3",
        "colab_type": "code",
        "colab": {}
      },
      "source": [
        "from sklearn.ensemble import  RandomForestClassifier"
      ],
      "execution_count": 0,
      "outputs": []
    },
    {
      "cell_type": "code",
      "metadata": {
        "id": "3sKfvuDiEWnO",
        "colab_type": "code",
        "colab": {}
      },
      "source": [
        "#clf = RandomForestClassifier()\n",
        "#clf.fit(X_train, y_train2)\n"
      ],
      "execution_count": 0,
      "outputs": []
    },
    {
      "cell_type": "code",
      "metadata": {
        "id": "u_jPG9Ph_On9",
        "colab_type": "code",
        "colab": {}
      },
      "source": [
        "import math\n",
        "def metric (y_pred,y_true):\n",
        "  n,c = np.shape(y_true)\n",
        "  \n",
        "  \n",
        "  s = 0\n",
        "  for i in range(n) :\n",
        "    for j in range(c) : \n",
        "      s -= y_true[i][j]*math.log(y_pred[i][j])\n",
        "      \n",
        "  return s/n"
      ],
      "execution_count": 0,
      "outputs": []
    },
    {
      "cell_type": "code",
      "metadata": {
        "id": "-tHERjkXB1FC",
        "colab_type": "code",
        "outputId": "04c9104d-fd57-4df7-b3b1-14241acdc9b4",
        "colab": {
          "base_uri": "https://localhost:8080/",
          "height": 248
        }
      },
      "source": [
        "y_pred = clf.predict_proba(X_test)\n",
        "#y_pred = model.predict(X_test.toarray())\n",
        "y_pred"
      ],
      "execution_count": 0,
      "outputs": [
        {
          "output_type": "execute_result",
          "data": {
            "text/plain": [
              "array([[0.04745694, 0.12936409, 0.26326474, ..., 0.03768591, 0.02274463,\n",
              "        0.13887805],\n",
              "       [0.02227641, 0.16137488, 0.13232209, ..., 0.02890644, 0.01673605,\n",
              "        0.48176732],\n",
              "       [0.01632051, 0.59498023, 0.04556856, ..., 0.02089512, 0.0149365 ,\n",
              "        0.2386607 ],\n",
              "       ...,\n",
              "       [0.08435292, 0.28419741, 0.0794567 , ..., 0.05149004, 0.0393702 ,\n",
              "        0.22099904],\n",
              "       [0.0359267 , 0.37966671, 0.14127701, ..., 0.02439545, 0.02604519,\n",
              "        0.22189105],\n",
              "       [0.04163411, 0.12710657, 0.08506167, ..., 0.0309666 , 0.01622155,\n",
              "        0.47649559]])"
            ]
          },
          "metadata": {
            "tags": []
          },
          "execution_count": 134
        }
      ]
    },
    {
      "cell_type": "code",
      "metadata": {
        "id": "jwnfg0brCJpx",
        "colab_type": "code",
        "outputId": "af7f7367-5c4a-482b-c6a6-9e501569c899",
        "colab": {
          "base_uri": "https://localhost:8080/",
          "height": 35
        }
      },
      "source": [
        "metric(y_pred,y_test)"
      ],
      "execution_count": 0,
      "outputs": [
        {
          "output_type": "execute_result",
          "data": {
            "text/plain": [
              "1.4549042383298962"
            ]
          },
          "metadata": {
            "tags": []
          },
          "execution_count": 135
        }
      ]
    },
    {
      "cell_type": "code",
      "metadata": {
        "id": "YaGpge0w_OoC",
        "colab_type": "code",
        "colab": {}
      },
      "source": [
        "from sklearn.naive_bayes import MultinomialNB"
      ],
      "execution_count": 0,
      "outputs": []
    },
    {
      "cell_type": "code",
      "metadata": {
        "id": "ZL4u-0W3GZfg",
        "colab_type": "code",
        "outputId": "2c2a76b6-6b4f-4045-a687-6a7069990ea4",
        "colab": {
          "base_uri": "https://localhost:8080/",
          "height": 35
        }
      },
      "source": [
        " clf = MultinomialNB()\n",
        " clf.fit(X_train,y_train2)"
      ],
      "execution_count": 0,
      "outputs": [
        {
          "output_type": "execute_result",
          "data": {
            "text/plain": [
              "MultinomialNB(alpha=1.0, class_prior=None, fit_prior=True)"
            ]
          },
          "metadata": {
            "tags": []
          },
          "execution_count": 72
        }
      ]
    },
    {
      "cell_type": "code",
      "metadata": {
        "id": "TPLH5jbwGiA2",
        "colab_type": "code",
        "outputId": "6c2fb8e4-f606-4dab-8872-f35ae0768f69",
        "colab": {
          "base_uri": "https://localhost:8080/",
          "height": 248
        }
      },
      "source": [
        "y_pred = clf.predict_proba(X_test)\n",
        "y_pred"
      ],
      "execution_count": 0,
      "outputs": [
        {
          "output_type": "execute_result",
          "data": {
            "text/plain": [
              "array([[0.13081345, 0.2252012 , 0.0422756 , ..., 0.04467599, 0.01467682,\n",
              "        0.29255077],\n",
              "       [0.0724493 , 0.11881653, 0.21234795, ..., 0.03568507, 0.01761929,\n",
              "        0.16515761],\n",
              "       [0.05171474, 0.27675263, 0.13980394, ..., 0.04649232, 0.02069051,\n",
              "        0.18767728],\n",
              "       ...,\n",
              "       [0.00206998, 0.37762838, 0.07646266, ..., 0.01281887, 0.02142303,\n",
              "        0.17978834],\n",
              "       [0.07277725, 0.39447354, 0.03655508, ..., 0.04529049, 0.01991727,\n",
              "        0.29928484],\n",
              "       [0.02821921, 0.33452287, 0.09974231, ..., 0.05690787, 0.03826631,\n",
              "        0.25278496]])"
            ]
          },
          "metadata": {
            "tags": []
          },
          "execution_count": 73
        }
      ]
    },
    {
      "cell_type": "code",
      "metadata": {
        "id": "sGqA3r88Gkq6",
        "colab_type": "code",
        "outputId": "176d071a-3a63-4ab5-a21c-e6433da5bbdf",
        "colab": {
          "base_uri": "https://localhost:8080/",
          "height": 35
        }
      },
      "source": [
        "clf.score(X_test,y_test2)"
      ],
      "execution_count": 0,
      "outputs": [
        {
          "output_type": "execute_result",
          "data": {
            "text/plain": [
              "0.5028490028490028"
            ]
          },
          "metadata": {
            "tags": []
          },
          "execution_count": 74
        }
      ]
    },
    {
      "cell_type": "code",
      "metadata": {
        "id": "sWYhUAxxGl0x",
        "colab_type": "code",
        "outputId": "a7b2ee92-1c54-412f-cc50-1f74161ccb0c",
        "colab": {
          "base_uri": "https://localhost:8080/",
          "height": 352
        }
      },
      "source": [
        "with open(\"test.csv\", 'r') as f:\n",
        "    test_hosts = f.read().splitlines()\n",
        "\n",
        "# Load the textual content of a set of webpages for each host into the dictionary \"text\". \n",
        "# The encoding parameter is required since the majority of our text is french.\n",
        "text = dict()\n",
        "filenames = os.listdir('text/text')\n",
        "for filename in filenames:\n",
        "    with codecs.open(path.join('text/text/', filename), encoding='latin-1') as f: \n",
        "        text[filename] = f.read().replace(\"\\n\", \"\").lower()"
      ],
      "execution_count": 0,
      "outputs": [
        {
          "output_type": "error",
          "ename": "KeyboardInterrupt",
          "evalue": "ignored",
          "traceback": [
            "\u001b[0;31m---------------------------------------------------------------------------\u001b[0m",
            "\u001b[0;31mKeyboardInterrupt\u001b[0m                         Traceback (most recent call last)",
            "\u001b[0;32m<ipython-input-75-2d3abc4f4267>\u001b[0m in \u001b[0;36m<module>\u001b[0;34m()\u001b[0m\n\u001b[1;32m      8\u001b[0m \u001b[0;32mfor\u001b[0m \u001b[0mfilename\u001b[0m \u001b[0;32min\u001b[0m \u001b[0mfilenames\u001b[0m\u001b[0;34m:\u001b[0m\u001b[0;34m\u001b[0m\u001b[0;34m\u001b[0m\u001b[0m\n\u001b[1;32m      9\u001b[0m     \u001b[0;32mwith\u001b[0m \u001b[0mcodecs\u001b[0m\u001b[0;34m.\u001b[0m\u001b[0mopen\u001b[0m\u001b[0;34m(\u001b[0m\u001b[0mpath\u001b[0m\u001b[0;34m.\u001b[0m\u001b[0mjoin\u001b[0m\u001b[0;34m(\u001b[0m\u001b[0;34m'text/text/'\u001b[0m\u001b[0;34m,\u001b[0m \u001b[0mfilename\u001b[0m\u001b[0;34m)\u001b[0m\u001b[0;34m,\u001b[0m \u001b[0mencoding\u001b[0m\u001b[0;34m=\u001b[0m\u001b[0;34m'latin-1'\u001b[0m\u001b[0;34m)\u001b[0m \u001b[0;32mas\u001b[0m \u001b[0mf\u001b[0m\u001b[0;34m:\u001b[0m\u001b[0;34m\u001b[0m\u001b[0;34m\u001b[0m\u001b[0m\n\u001b[0;32m---> 10\u001b[0;31m         \u001b[0mtext\u001b[0m\u001b[0;34m[\u001b[0m\u001b[0mfilename\u001b[0m\u001b[0;34m]\u001b[0m \u001b[0;34m=\u001b[0m \u001b[0mf\u001b[0m\u001b[0;34m.\u001b[0m\u001b[0mread\u001b[0m\u001b[0;34m(\u001b[0m\u001b[0;34m)\u001b[0m\u001b[0;34m.\u001b[0m\u001b[0mreplace\u001b[0m\u001b[0;34m(\u001b[0m\u001b[0;34m\"\\n\"\u001b[0m\u001b[0;34m,\u001b[0m \u001b[0;34m\"\"\u001b[0m\u001b[0;34m)\u001b[0m\u001b[0;34m.\u001b[0m\u001b[0mlower\u001b[0m\u001b[0;34m(\u001b[0m\u001b[0;34m)\u001b[0m\u001b[0;34m\u001b[0m\u001b[0;34m\u001b[0m\u001b[0m\n\u001b[0m",
            "\u001b[0;32m/usr/lib/python3.6/codecs.py\u001b[0m in \u001b[0;36mread\u001b[0;34m(self, size)\u001b[0m\n\u001b[1;32m    698\u001b[0m     \u001b[0;32mdef\u001b[0m \u001b[0mread\u001b[0m\u001b[0;34m(\u001b[0m\u001b[0mself\u001b[0m\u001b[0;34m,\u001b[0m \u001b[0msize\u001b[0m\u001b[0;34m=\u001b[0m\u001b[0;34m-\u001b[0m\u001b[0;36m1\u001b[0m\u001b[0;34m)\u001b[0m\u001b[0;34m:\u001b[0m\u001b[0;34m\u001b[0m\u001b[0;34m\u001b[0m\u001b[0m\n\u001b[1;32m    699\u001b[0m \u001b[0;34m\u001b[0m\u001b[0m\n\u001b[0;32m--> 700\u001b[0;31m         \u001b[0;32mreturn\u001b[0m \u001b[0mself\u001b[0m\u001b[0;34m.\u001b[0m\u001b[0mreader\u001b[0m\u001b[0;34m.\u001b[0m\u001b[0mread\u001b[0m\u001b[0;34m(\u001b[0m\u001b[0msize\u001b[0m\u001b[0;34m)\u001b[0m\u001b[0;34m\u001b[0m\u001b[0;34m\u001b[0m\u001b[0m\n\u001b[0m\u001b[1;32m    701\u001b[0m \u001b[0;34m\u001b[0m\u001b[0m\n\u001b[1;32m    702\u001b[0m     \u001b[0;32mdef\u001b[0m \u001b[0mreadline\u001b[0m\u001b[0;34m(\u001b[0m\u001b[0mself\u001b[0m\u001b[0;34m,\u001b[0m \u001b[0msize\u001b[0m\u001b[0;34m=\u001b[0m\u001b[0;32mNone\u001b[0m\u001b[0;34m)\u001b[0m\u001b[0;34m:\u001b[0m\u001b[0;34m\u001b[0m\u001b[0;34m\u001b[0m\u001b[0m\n",
            "\u001b[0;32m/usr/lib/python3.6/codecs.py\u001b[0m in \u001b[0;36mread\u001b[0;34m(self, size, chars, firstline)\u001b[0m\n\u001b[1;32m    493\u001b[0m             \u001b[0;31m# we need more data\u001b[0m\u001b[0;34m\u001b[0m\u001b[0;34m\u001b[0m\u001b[0;34m\u001b[0m\u001b[0m\n\u001b[1;32m    494\u001b[0m             \u001b[0;32mif\u001b[0m \u001b[0msize\u001b[0m \u001b[0;34m<\u001b[0m \u001b[0;36m0\u001b[0m\u001b[0;34m:\u001b[0m\u001b[0;34m\u001b[0m\u001b[0;34m\u001b[0m\u001b[0m\n\u001b[0;32m--> 495\u001b[0;31m                 \u001b[0mnewdata\u001b[0m \u001b[0;34m=\u001b[0m \u001b[0mself\u001b[0m\u001b[0;34m.\u001b[0m\u001b[0mstream\u001b[0m\u001b[0;34m.\u001b[0m\u001b[0mread\u001b[0m\u001b[0;34m(\u001b[0m\u001b[0;34m)\u001b[0m\u001b[0;34m\u001b[0m\u001b[0;34m\u001b[0m\u001b[0m\n\u001b[0m\u001b[1;32m    496\u001b[0m             \u001b[0;32melse\u001b[0m\u001b[0;34m:\u001b[0m\u001b[0;34m\u001b[0m\u001b[0;34m\u001b[0m\u001b[0m\n\u001b[1;32m    497\u001b[0m                 \u001b[0mnewdata\u001b[0m \u001b[0;34m=\u001b[0m \u001b[0mself\u001b[0m\u001b[0;34m.\u001b[0m\u001b[0mstream\u001b[0m\u001b[0;34m.\u001b[0m\u001b[0mread\u001b[0m\u001b[0;34m(\u001b[0m\u001b[0msize\u001b[0m\u001b[0;34m)\u001b[0m\u001b[0;34m\u001b[0m\u001b[0;34m\u001b[0m\u001b[0m\n",
            "\u001b[0;31mKeyboardInterrupt\u001b[0m: "
          ]
        }
      ]
    },
    {
      "cell_type": "code",
      "metadata": {
        "id": "KLduzC5gHjuS",
        "colab_type": "code",
        "colab": {}
      },
      "source": [
        "test_data = list()\n",
        "for host in test_hosts:\n",
        "    if host in text:\n",
        "        test_data.append(text[host])\n",
        "    else:\n",
        "        test_data.append('')\n",
        "        "
      ],
      "execution_count": 0,
      "outputs": []
    }
  ]
}