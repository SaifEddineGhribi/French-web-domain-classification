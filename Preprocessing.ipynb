{
 "cells": [
  {
   "cell_type": "code",
   "execution_count": 1,
   "metadata": {},
   "outputs": [
    {
     "name": "stderr",
     "output_type": "stream",
     "text": [
      "[nltk_data] Downloading package punkt to /home/saifeddine/nltk_data...\n",
      "[nltk_data]   Package punkt is already up-to-date!\n"
     ]
    }
   ],
   "source": [
    "import os\n",
    "import csv\n",
    "from sklearn.feature_extraction.text import TfidfVectorizer\n",
    "from sklearn.linear_model import LogisticRegression\n",
    "import codecs\n",
    "from os import path\n",
    "from functions_text import *\n",
    "import numpy as np\n",
    "from collections import Counter\n",
    "import nltk\n",
    "nltk.download('punkt')\n",
    "stop_words = get_stopswords()"
   ]
  },
  {
   "cell_type": "code",
   "execution_count": 2,
   "metadata": {},
   "outputs": [
    {
     "data": {
      "text/plain": [
       "array(['alternat', 'accessoir', 'homm', 'nouvel', 'saison', 'superdry',\n",
       "       'top', 'button', 'chaussur', 'femm', 'chanc', 'derni', 'vest',\n",
       "       'sport', 'heren', 'haut', 'polos', 'tendanc', 'shirt', 'bas',\n",
       "       'broeken', 'capuch', 'dam', 'doudoun', 'extérieur', 'in',\n",
       "       'schoenen', 'sweat', 'vêt', 'kan', 'laatst', 'new', 'jean', 'sac',\n",
       "       'short', 'chemis', 'hood', 'jassen', 'nieuw', 'outerwear', 'topj',\n",
       "       'voor', 'livraison', 'bain', 'basket', 'bott', 'casquet',\n",
       "       'chapeau', 'claquet', 'collect', 'compt', 'cuir', 'débardeur',\n",
       "       'détent', 'hiv', 'lunet', 'maillot', 'manch', 'pantalon',\n",
       "       'recherch', 'rob', 'soleil', 'survêt', 'tassen', 'tong', 'be',\n",
       "       'canad', 'english', 'europ', 'franc', 'offlin', 'ski', 'accessor',\n",
       "       'articl', 'boutiqu', 'ferm', 'gratuit', 'het', 'magasin', 'retour',\n",
       "       'souhait', 'vacanc', 'account', 'belgiqu', 'donsjassen', 'gilet',\n",
       "       'hemden', 'hoeden', 'is', 'kleedj', 'laarzen', 'lederen',\n",
       "       'loungekledij', 'maill', 'now', 'ondergoed', 'overig', 'petten',\n",
       "       'seizoen', 'slipper'], dtype='<U21')"
      ]
     },
     "execution_count": 2,
     "metadata": {},
     "output_type": "execute_result"
    }
   ],
   "source": [
    "#example of preprocessing a file \n",
    "#directory to file \n",
    "sample = read_raw_file(\"/mnt/c/Users/Saifeddine/Documents/GitHub/data/text/text2/1\")\n",
    "pre_process(sample,max_words=100)"
   ]
  },
  {
   "cell_type": "code",
   "execution_count": 3,
   "metadata": {},
   "outputs": [],
   "source": []
  },
  {
   "cell_type": "code",
   "execution_count": null,
   "metadata": {},
   "outputs": [],
   "source": []
  }
 ],
 "metadata": {
  "kernelspec": {
   "display_name": "Python 3",
   "language": "python",
   "name": "python3"
  },
  "language_info": {
   "codemirror_mode": {
    "name": "ipython",
    "version": 3
   },
   "file_extension": ".py",
   "mimetype": "text/x-python",
   "name": "python",
   "nbconvert_exporter": "python",
   "pygments_lexer": "ipython3",
   "version": "3.7.4"
  }
 },
 "nbformat": 4,
 "nbformat_minor": 2
}
